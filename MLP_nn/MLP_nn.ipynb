{
  "cells": [
    {
      "cell_type": "markdown",
      "metadata": {
        "id": "RzTK7gM5ydFL"
      },
      "source": [
        "# **IMPORT LIBS**"
      ]
    },
    {
      "cell_type": "code",
      "execution_count": 130,
      "metadata": {
        "id": "HG6VE-z-iIFN"
      },
      "outputs": [],
      "source": [
        "import keras\n",
        "import pandas as pd\n",
        "import numpy as np\n",
        "import warnings\n",
        "from keras.models import Sequential\n",
        "from keras.layers import Dense, Dropout\n",
        "import matplotlib.pyplot as plt\n",
        "import numpy as np\n",
        "from sklearn.preprocessing import LabelEncoder\n",
        "#from skimage.transform import rotate, shear, zoom\n",
        "#from imgaug import augmenters as iaa\n",
        "import tensorflow as tf\n",
        "import math\n",
        "\n",
        "import keras.backend as K\n",
        "from keras.callbacks import EarlyStopping\n",
        "from keras.models import load_model\n",
        "from keras.layers import LSTM\n",
        "from tensorflow.keras.optimizers import Adam\n",
        "\n",
        "warnings.filterwarnings('ignore')"
      ]
    },
    {
      "cell_type": "markdown",
      "metadata": {
        "id": "AYSWggNH_f5x"
      },
      "source": [
        "#**LOAD THE MODEL**"
      ]
    },
    {
      "cell_type": "code",
      "execution_count": 131,
      "metadata": {
        "id": "6BrvyPeh_SAC"
      },
      "outputs": [
        {
          "name": "stdout",
          "output_type": "stream",
          "text": [
            "Model: \"sequential\"\n",
            "_________________________________________________________________\n",
            " Layer (type)                Output Shape              Param #   \n",
            "=================================================================\n",
            " dense (Dense)               (None, 1, 128)            1664      \n",
            "                                                                 \n",
            " dense_1 (Dense)             (None, 1, 64)             8256      \n",
            "                                                                 \n",
            " dense_2 (Dense)             (None, 1, 32)             2080      \n",
            "                                                                 \n",
            " dense_3 (Dense)             (None, 1, 16)             528       \n",
            "                                                                 \n",
            " dense_4 (Dense)             (None, 1, 12)             204       \n",
            "                                                                 \n",
            "=================================================================\n",
            "Total params: 12732 (49.73 KB)\n",
            "Trainable params: 12732 (49.73 KB)\n",
            "Non-trainable params: 0 (0.00 Byte)\n",
            "_________________________________________________________________\n"
          ]
        }
      ],
      "source": [
        "model = tf.keras.models.load_model('./model_v40.h5')\n",
        "\n",
        "# (Optional) Print a summary of the model architecture\n",
        "model.summary()"
      ]
    },
    {
      "cell_type": "markdown",
      "metadata": {
        "id": "RHBmH_88Ilpx"
      },
      "source": [
        "# **AUX FUNCTIONS**"
      ]
    },
    {
      "cell_type": "code",
      "execution_count": 132,
      "metadata": {
        "id": "F0lXdqGfInKu"
      },
      "outputs": [],
      "source": [
        "def save_manovers_positions_to_csv_file(gps_positions, manovers, filename):\n",
        "  output = np.zeros_like(gps_positions)\n",
        "\n",
        "  # Iterate through the elements of arr2\n",
        "  for i in range(len(manovers)):\n",
        "    # Check if the element in arr2 is 1\n",
        "    if manovers[i] == 1:\n",
        "      # Copy the corresponding values from arr1 to the output array\n",
        "      output[i] = gps_positions[i]\n",
        "\n",
        "  output = output[~np.all(output == 0, axis=1)]\n",
        "  np.savetxt(filename, output, delimiter=',', fmt='%.9f')\n",
        "\n",
        "\n",
        "\n",
        "def separate_positives_negatives(data):\n",
        "  # Ensure the input is converted to a NumPy array for easier manipulation\n",
        "  data = np.array(data)\n",
        "\n",
        "  # Create two empty arrays to store positive and negative values\n",
        "  positives = np.zeros_like(data)\n",
        "  negatives = np.zeros_like(data)\n",
        "\n",
        "  # Use boolean indexing to separate positive and negative values\n",
        "  positives[data > 0] = data[data > 0]\n",
        "  negatives[data < 0] = -data[data < 0]\n",
        "\n",
        "  # Combine the positive and negative values into a single 2D array\n",
        "  return (positives, negatives)\n",
        "\n",
        "def normalize_between_0_and_max(data):\n",
        "  max_value = np.max(data)\n",
        "  return data / max_value\n",
        "\n",
        "def normalize_between_0_and_max_v2(data, max_value):\n",
        "  return data / max_value\n",
        "\n",
        "def split_train_test(data, test_size=0.2):\n",
        "  # Check if test_size is between 0 and 1\n",
        "  if test_size < 0 or test_size > 1:\n",
        "    raise ValueError(\"test_size must be between 0 and 1.\")\n",
        "\n",
        "  # Get the number of samples\n",
        "  num_samples = data.shape[0]\n",
        "\n",
        "  # Calculate the number of samples for each set\n",
        "  train_size = int(num_samples * (1 - test_size))\n",
        "  test_size = num_samples - train_size\n",
        "\n",
        "  # Randomly shuffle the data for better splitting (optional)\n",
        "  #np.random.shuffle(data)\n",
        "\n",
        "  # Split the data into training and test sets\n",
        "  train_data = data[:train_size]\n",
        "  test_data = data[train_size:]\n",
        "\n",
        "  return train_data, test_data\n",
        "\n",
        "def y_classification(data, threshold):\n",
        "  classification = np.zeros_like(data, dtype=int)  # Initialize output array\n",
        "\n",
        "  for col in range(0, 12):  # Loop through each column\n",
        "    max_value = np.max(data[:, col])\n",
        "    threshold_pos = max_value * threshold\n",
        "    classification[:, col] = np.where(data[:, col] >= threshold_pos, 1, 0)\n",
        "\n",
        "  return classification\n",
        "\n",
        "def max_of_vectors(vec1, vec2, vec3, vec4, vec5, vec6):\n",
        "  # Combine all vectors into a single array\n",
        "  all_vectors = np.array([vec1, vec2, vec3, vec4, vec5, vec6])\n",
        "\n",
        "  # Find the maximum value in the array\n",
        "  max_value = np.max(all_vectors)\n",
        "\n",
        "  return max_value\n",
        "\n",
        "def random_aug_op(data, columnName):\n",
        "  random_number = np.random.rand()\n",
        "\n",
        "  if random_number < 0.5:\n",
        "    #data = data - data*0.05\n",
        "    data = data - data*random_number\n",
        "  else:\n",
        "    #data = data + data*0.05\n",
        "    data = data + data*(1-random_number)\n",
        "\n",
        "  return data\n",
        "  #newrow = pd.DataFrame({columnName: [data]})\n",
        "  #newrow = pd.DataFrame([data])\n",
        "  #return newrow\n",
        "\n",
        "def tabular_dataaugmentation(data):\n",
        "  augmented_data = data.copy()\n",
        "  augmented_data_list = augmented_data.to_numpy()\n",
        "  print(augmented_data_list)\n",
        "\n",
        "  for i in data:\n",
        "    for j in range(10):\n",
        "      #augmented_data = pd.concat([augmented_data, random_aug_op(i, data.name)])\n",
        "      #augmented_data_list.append(random_aug_op(i, data.name))\n",
        "      augmented_data_list = np.append(augmented_data_list, random_aug_op(i, data.name))\n",
        "\n",
        "  #return augmented_data\n",
        "  #return pd.DataFrame(augmented_data_list).drop(0).reset_index(drop=True)\n",
        "  dataframe = pd.DataFrame(augmented_data_list)\n",
        "  finaldataframe = dataframe[0]\n",
        "  return finaldataframe"
      ]
    },
    {
      "cell_type": "code",
      "execution_count": null,
      "metadata": {},
      "outputs": [],
      "source": []
    },
    {
      "cell_type": "markdown",
      "metadata": {
        "id": "aATQYo4TiWrU"
      },
      "source": [
        "# **IMPORT DATA**"
      ]
    },
    {
      "cell_type": "code",
      "execution_count": 133,
      "metadata": {
        "id": "B5wPPy3OiYj9"
      },
      "outputs": [],
      "source": [
        "#df = pd.read_csv('Dataset-viagens-longas.csv')\n",
        "df = pd.read_csv('Abrantes-Leiria.csv')\n",
        "\n",
        "acelX = df['accelerometerXAxis']\n",
        "acelY = df['accelerometerYAxis']\n",
        "acelZ = df['accelerometerZAxis']\n",
        "\n",
        "gyrX = df['gyroscopeXAxis']\n",
        "gyrY = df['gyroscopeYAxis']\n",
        "gyrZ = df['gyroscopeZAxis']\n",
        "\n",
        "latitude = df['latitude']\n",
        "longitude = df['longitude']"
      ]
    },
    {
      "cell_type": "code",
      "execution_count": 134,
      "metadata": {
        "id": "ZzW3XSugY8m3"
      },
      "outputs": [
        {
          "name": "stdout",
          "output_type": "stream",
          "text": [
            "count    35129.000000\n",
            "mean         0.066414\n",
            "std          1.245461\n",
            "min         -8.641076\n",
            "25%         -0.579987\n",
            "50%          0.052194\n",
            "75%          0.699165\n",
            "max          8.997051\n",
            "Name: accelerometerXAxis, dtype: float64\n",
            "count    35129.000000\n",
            "mean         0.151044\n",
            "std          0.990845\n",
            "min         -9.755715\n",
            "25%         -0.420916\n",
            "50%          0.152290\n",
            "75%          0.720796\n",
            "max          7.688001\n",
            "Name: accelerometerYAxis, dtype: float64\n",
            "count    35129.000000\n",
            "mean         0.014258\n",
            "std          1.411844\n",
            "min        -14.865593\n",
            "25%         -0.860741\n",
            "50%          0.028166\n",
            "75%          0.886975\n",
            "max         12.408630\n",
            "Name: accelerometerZAxis, dtype: float64\n",
            "count    35129.000000\n",
            "mean        -0.000223\n",
            "std          0.106395\n",
            "min         -0.748310\n",
            "25%         -0.062919\n",
            "50%         -0.000611\n",
            "75%          0.061087\n",
            "max          0.883922\n",
            "Name: gyroscopeXAxis, dtype: float64\n",
            "count    35129.000000\n",
            "mean         0.003045\n",
            "std          0.165580\n",
            "min         -1.225396\n",
            "25%         -0.087354\n",
            "50%          0.001222\n",
            "75%          0.092241\n",
            "max          1.266935\n",
            "Name: gyroscopeYAxis, dtype: float64\n",
            "count    35129.000000\n",
            "mean        -0.001280\n",
            "std          0.024206\n",
            "min         -0.219301\n",
            "25%         -0.014661\n",
            "50%         -0.001222\n",
            "75%          0.011606\n",
            "max          0.148440\n",
            "Name: gyroscopeZAxis, dtype: float64\n"
          ]
        }
      ],
      "source": [
        "print(df['accelerometerXAxis'].describe())\n",
        "print(df['accelerometerYAxis'].describe())\n",
        "print(df['accelerometerZAxis'].describe())\n",
        "print(df['gyroscopeXAxis'].describe())\n",
        "print(df['gyroscopeYAxis'].describe())\n",
        "print(df['gyroscopeZAxis'].describe())"
      ]
    },
    {
      "cell_type": "markdown",
      "metadata": {},
      "source": [
        "# **DATA AUGEMTATION**"
      ]
    },
    {
      "cell_type": "code",
      "execution_count": 135,
      "metadata": {},
      "outputs": [
        {
          "name": "stdout",
          "output_type": "stream",
          "text": [
            "[ 0.89889485  0.04369587 -0.77212536 ... -0.23127282  0.49910891\n",
            "  0.04740443]\n",
            "(35129,)\n",
            "(386419,)\n",
            "[ 0.6757679  -0.25811958  0.11312008 ...  0.09527779  0.33224583\n",
            "  0.04727745]\n",
            "[ 0.34061792  0.15225522 -0.45630079 ... -0.34803924 -0.32808512\n",
            " -0.03482494]\n",
            "[ 0.09529498  0.02932153  0.06597345 ... -0.03420845  0.00671952\n",
            " -0.05009095]\n",
            "[-0.09712757 -0.0720821   0.03359759 ... -0.05009095  0.01160644\n",
            "  0.05558874]\n",
            "[ 0.00549779 -0.02138028 -0.00855211 ... -0.00244346 -0.02076942\n",
            " -0.01282817]\n",
            "[39.45946884 39.45946884 39.45946884 ... 39.73841095 39.73841095\n",
            " 39.73841095]\n",
            "[-8.19890499 -8.19890499 -8.19890499 ... -8.80177879 -8.80177879\n",
            " -8.80177879]\n"
          ]
        }
      ],
      "source": [
        "acelXaug = tabular_dataaugmentation(acelX)\n",
        "print(acelX.shape)\n",
        "print(acelXaug.shape)\n",
        "acelYaug = tabular_dataaugmentation(acelY)\n",
        "acelZaug = tabular_dataaugmentation(acelZ)\n",
        "gyrXaug = tabular_dataaugmentation(gyrX)\n",
        "gyrYaug = tabular_dataaugmentation(gyrY)\n",
        "gyrZaug = tabular_dataaugmentation(gyrZ)\n",
        "\n",
        "latitudeaug = tabular_dataaugmentation(latitude)\n",
        "longitudeaug = tabular_dataaugmentation(longitude)"
      ]
    },
    {
      "cell_type": "code",
      "execution_count": 136,
      "metadata": {},
      "outputs": [
        {
          "name": "stdout",
          "output_type": "stream",
          "text": [
            "[ 0.89889485  0.04369587 -0.77212536 ... -0.23127282  0.49910891\n",
            "  0.04740443]\n",
            "data aug end\n",
            "0         0.898895\n",
            "1         0.043696\n",
            "2        -0.772125\n",
            "3         0.267107\n",
            "4         0.369875\n",
            "            ...   \n",
            "386414    0.036258\n",
            "386415    0.042239\n",
            "386416    0.032968\n",
            "386417    0.035483\n",
            "386418    0.029808\n",
            "Name: 0, Length: 386419, dtype: float64\n",
            "0        0.898895\n",
            "1        0.043696\n",
            "2       -0.772125\n",
            "3        0.267107\n",
            "4        0.369875\n",
            "           ...   \n",
            "35124    0.089524\n",
            "35125    0.296395\n",
            "35126   -0.231273\n",
            "35127    0.499109\n",
            "35128    0.047404\n",
            "Name: accelerometerXAxis, Length: 35129, dtype: float64\n"
          ]
        }
      ],
      "source": [
        "\n",
        "acelXaug = tabular_dataaugmentation(acelX)\n",
        "print(\"data aug end\")\n",
        "print(acelXaug)\n",
        "print(acelX)"
      ]
    },
    {
      "cell_type": "markdown",
      "metadata": {
        "id": "eb3I99C7ASnM"
      },
      "source": [
        "# **SEPARATE DATA BY MANOVER**"
      ]
    },
    {
      "cell_type": "code",
      "execution_count": 137,
      "metadata": {
        "id": "IaJIdH4qvx0t"
      },
      "outputs": [],
      "source": [
        "#turnRightX, turnLeftX = separate_positives_negatives(acelX)\n",
        "turnRightX, turnLeftX = separate_positives_negatives(acelXaug)\n",
        "\n",
        "#accelY, breakY = separate_positives_negatives(acelY)\n",
        "accelY, breakY = separate_positives_negatives(acelYaug)\n",
        "\n",
        "#positiveZ, negativeZ = separate_positives_negatives(acelZ)\n",
        "positiveZ, negativeZ = separate_positives_negatives(acelZaug)\n",
        "\n",
        "#gyrPositiveX, gyrNegativeX = separate_positives_negatives(gyrX)\n",
        "gyrPositiveX, gyrNegativeX = separate_positives_negatives(gyrXaug)\n",
        "\n",
        "#gyrPositiveY, gyrNegativeY = separate_positives_negatives(gyrY)\n",
        "gyrPositiveY, gyrNegativeY = separate_positives_negatives(gyrYaug)\n",
        "\n",
        "#gyrPositiveZ, gyrNegativeZ = separate_positives_negatives(gyrZ)\n",
        "gyrPositiveZ, gyrNegativeZ = separate_positives_negatives(gyrZaug)"
      ]
    },
    {
      "cell_type": "code",
      "execution_count": 138,
      "metadata": {
        "colab": {
          "base_uri": "https://localhost:8080/"
        },
        "id": "OHxP7SVfGrX6",
        "outputId": "f2d2eaf8-249b-432e-9bfd-7dd5ef88f5f8"
      },
      "outputs": [
        {
          "data": {
            "text/plain": [
              "(386419,)"
            ]
          },
          "execution_count": 138,
          "metadata": {},
          "output_type": "execute_result"
        }
      ],
      "source": [
        "turnRightX.shape"
      ]
    },
    {
      "cell_type": "markdown",
      "metadata": {
        "id": "N01_nop2Znt5"
      },
      "source": [
        "# **CLASSIFICATION BASED ON NOT NORMALIZED VALUES**"
      ]
    },
    {
      "cell_type": "code",
      "execution_count": 139,
      "metadata": {
        "colab": {
          "base_uri": "https://localhost:8080/"
        },
        "id": "ELrWyhmuZnHS",
        "outputId": "c3b7d469-96f3-4e4d-c7b9-511e829c400b"
      },
      "outputs": [
        {
          "name": "stdout",
          "output_type": "stream",
          "text": [
            "[3669 4087 2232  619 1104  339 2124 2301 2440 3418 5050 1301]\n"
          ]
        }
      ],
      "source": [
        "newArray1 = np.array(list(zip(turnRightX, turnLeftX, accelY, breakY, positiveZ, negativeZ, gyrPositiveX, gyrNegativeX, gyrPositiveY, gyrNegativeY, gyrPositiveZ, gyrNegativeZ)))\n",
        "\n",
        "y = y_classification(newArray1, 0.3)\n",
        "print (np.sum(y, axis=0))\n",
        "np.savetxt(\"Y.csv\", y, delimiter=',', fmt='%.0i')"
      ]
    },
    {
      "cell_type": "markdown",
      "metadata": {
        "id": "SPIA30JzCcST"
      },
      "source": [
        "# **NORMALIZE DATA**"
      ]
    },
    {
      "cell_type": "code",
      "execution_count": 140,
      "metadata": {
        "id": "c8sC3D4cZURt"
      },
      "outputs": [],
      "source": [
        "max_accel = max_of_vectors(turnRightX, turnLeftX, accelY, breakY, positiveZ, negativeZ)\n",
        "max_gyr = max_of_vectors(gyrPositiveX, gyrNegativeX, gyrPositiveY, gyrNegativeY, gyrPositiveZ, gyrNegativeZ)"
      ]
    },
    {
      "cell_type": "code",
      "execution_count": 141,
      "metadata": {
        "id": "bTCRAhTXZXNL"
      },
      "outputs": [],
      "source": [
        "turnRightXn = normalize_between_0_and_max_v2(turnRightX, max_accel)\n",
        "turnLeftXn = normalize_between_0_and_max_v2(turnLeftX, max_accel)\n",
        "accelYn = normalize_between_0_and_max_v2(accelY, max_accel)\n",
        "breakYn = normalize_between_0_and_max_v2(breakY, max_accel)\n",
        "positiveZn = normalize_between_0_and_max_v2(positiveZ, max_accel)\n",
        "negativeZn = normalize_between_0_and_max_v2(negativeZ, max_accel)\n",
        "gyrPositiveXn = normalize_between_0_and_max_v2(gyrPositiveX, max_gyr)\n",
        "gyrNegativeXn = normalize_between_0_and_max_v2(gyrNegativeX, max_gyr)\n",
        "gyrPositiveYn = normalize_between_0_and_max_v2(gyrPositiveY, max_gyr)\n",
        "gyrNegativeYn = normalize_between_0_and_max_v2(gyrNegativeY, max_gyr)\n",
        "gyrPositiveZn = normalize_between_0_and_max_v2(gyrPositiveZ, max_gyr)\n",
        "gyrNegativeZn = normalize_between_0_and_max_v2(gyrNegativeZ, max_gyr)"
      ]
    },
    {
      "cell_type": "markdown",
      "metadata": {
        "id": "YrtvVRZ0Avz8"
      },
      "source": [
        "# **CREATE AN ARRAY WITH ALL DATA**"
      ]
    },
    {
      "cell_type": "code",
      "execution_count": 142,
      "metadata": {
        "id": "ppkRUVMX1c7W"
      },
      "outputs": [],
      "source": [
        "newArray = np.array(list(zip(turnRightXn, turnLeftXn, accelYn, breakYn, positiveZn, negativeZn, gyrPositiveXn, gyrNegativeXn, gyrPositiveYn, gyrNegativeYn, gyrPositiveZn, gyrNegativeZn)))"
      ]
    },
    {
      "cell_type": "code",
      "execution_count": 143,
      "metadata": {
        "colab": {
          "base_uri": "https://localhost:8080/"
        },
        "id": "vX4JSKAddzy0",
        "outputId": "9da387a5-3957-4285-9228-46343e9f342f"
      },
      "outputs": [
        {
          "data": {
            "text/plain": [
              "(386419, 12)"
            ]
          },
          "execution_count": 143,
          "metadata": {},
          "output_type": "execute_result"
        }
      ],
      "source": [
        "newArray.shape"
      ]
    },
    {
      "cell_type": "code",
      "execution_count": 11,
      "metadata": {
        "colab": {
          "base_uri": "https://localhost:8080/"
        },
        "id": "tJVtNOyF3bU5",
        "outputId": "d7333cdb-1891-45fd-ec79-218615aa6ec7"
      },
      "outputs": [],
      "source": [
        "#y1 = y_classification(newArray, 0.3)\n",
        "#print (np.sum(y1, axis=0))\n",
        "#np.savetxt(\"Y.csv\", y1, delimiter=',', fmt='%.0i')"
      ]
    },
    {
      "cell_type": "markdown",
      "metadata": {
        "id": "0IZvV0MhdLBy"
      },
      "source": [
        "# **SHOW MANOVERS ON GOOLGE MAP**"
      ]
    },
    {
      "cell_type": "code",
      "execution_count": 144,
      "metadata": {
        "id": "yvW2QnkTdRiA"
      },
      "outputs": [
        {
          "name": "stdout",
          "output_type": "stream",
          "text": [
            "[0 0 0 ... 0 0 0]\n"
          ]
        },
        {
          "ename": "IndexError",
          "evalue": "index 37679 is out of bounds for axis 0 with size 35129",
          "output_type": "error",
          "traceback": [
            "\u001b[0;31m---------------------------------------------------------------------------\u001b[0m",
            "\u001b[0;31mIndexError\u001b[0m                                Traceback (most recent call last)",
            "Cell \u001b[0;32mIn[144], line 9\u001b[0m\n\u001b[1;32m      7\u001b[0m gyrPositiveZn \u001b[38;5;241m=\u001b[39m y[:, \u001b[38;5;241m10\u001b[39m]\n\u001b[1;32m      8\u001b[0m gyrNegativeZn \u001b[38;5;241m=\u001b[39m y[:, \u001b[38;5;241m11\u001b[39m]\n\u001b[0;32m----> 9\u001b[0m \u001b[43msave_manovers_positions_to_csv_file\u001b[49m\u001b[43m(\u001b[49m\u001b[43mpositions\u001b[49m\u001b[43m,\u001b[49m\u001b[43m \u001b[49m\u001b[43mmanover_accelY\u001b[49m\u001b[43m,\u001b[49m\u001b[43m \u001b[49m\u001b[38;5;124;43m\"\u001b[39;49m\u001b[38;5;124;43maccelY.csv\u001b[39;49m\u001b[38;5;124;43m\"\u001b[39;49m\u001b[43m)\u001b[49m\n\u001b[1;32m     10\u001b[0m save_manovers_positions_to_csv_file(positions, manover_breakY, \u001b[38;5;124m\"\u001b[39m\u001b[38;5;124mbreakY.csv\u001b[39m\u001b[38;5;124m\"\u001b[39m)\n\u001b[1;32m     11\u001b[0m save_manovers_positions_to_csv_file(positions, manover_turnRightXn, \u001b[38;5;124m\"\u001b[39m\u001b[38;5;124mturnRightX.csv\u001b[39m\u001b[38;5;124m\"\u001b[39m)\n",
            "Cell \u001b[0;32mIn[132], line 9\u001b[0m, in \u001b[0;36msave_manovers_positions_to_csv_file\u001b[0;34m(gps_positions, manovers, filename)\u001b[0m\n\u001b[1;32m      5\u001b[0m \u001b[38;5;28;01mfor\u001b[39;00m i \u001b[38;5;129;01min\u001b[39;00m \u001b[38;5;28mrange\u001b[39m(\u001b[38;5;28mlen\u001b[39m(manovers)):\n\u001b[1;32m      6\u001b[0m   \u001b[38;5;66;03m# Check if the element in arr2 is 1\u001b[39;00m\n\u001b[1;32m      7\u001b[0m   \u001b[38;5;28;01mif\u001b[39;00m manovers[i] \u001b[38;5;241m==\u001b[39m \u001b[38;5;241m1\u001b[39m:\n\u001b[1;32m      8\u001b[0m     \u001b[38;5;66;03m# Copy the corresponding values from arr1 to the output array\u001b[39;00m\n\u001b[0;32m----> 9\u001b[0m     output[i] \u001b[38;5;241m=\u001b[39m \u001b[43mgps_positions\u001b[49m\u001b[43m[\u001b[49m\u001b[43mi\u001b[49m\u001b[43m]\u001b[49m\n\u001b[1;32m     11\u001b[0m output \u001b[38;5;241m=\u001b[39m output[\u001b[38;5;241m~\u001b[39mnp\u001b[38;5;241m.\u001b[39mall(output \u001b[38;5;241m==\u001b[39m \u001b[38;5;241m0\u001b[39m, axis\u001b[38;5;241m=\u001b[39m\u001b[38;5;241m1\u001b[39m)]\n\u001b[1;32m     12\u001b[0m np\u001b[38;5;241m.\u001b[39msavetxt(filename, output, delimiter\u001b[38;5;241m=\u001b[39m\u001b[38;5;124m'\u001b[39m\u001b[38;5;124m,\u001b[39m\u001b[38;5;124m'\u001b[39m, fmt\u001b[38;5;241m=\u001b[39m\u001b[38;5;124m'\u001b[39m\u001b[38;5;132;01m%.9f\u001b[39;00m\u001b[38;5;124m'\u001b[39m)\n",
            "\u001b[0;31mIndexError\u001b[0m: index 37679 is out of bounds for axis 0 with size 35129"
          ]
        }
      ],
      "source": [
        "positions = np.array(list(zip(latitude, longitude)))\n",
        "manover_accelY = y[:, 2]\n",
        "print(manover_accelY)\n",
        "manover_breakY = y[:, 3]\n",
        "manover_turnRightXn = y[:, 0]\n",
        "manover_turnLeftXn = y[:, 1]\n",
        "gyrPositiveZn = y[:, 10]\n",
        "gyrNegativeZn = y[:, 11]\n",
        "save_manovers_positions_to_csv_file(positions, manover_accelY, \"accelY.csv\")\n",
        "save_manovers_positions_to_csv_file(positions, manover_breakY, \"breakY.csv\")\n",
        "save_manovers_positions_to_csv_file(positions, manover_turnRightXn, \"turnRightX.csv\")\n",
        "save_manovers_positions_to_csv_file(positions, manover_turnLeftXn, \"turnLeftX.csv\")\n",
        "save_manovers_positions_to_csv_file(positions, gyrPositiveZn, \"gyrPositZ.csv\")\n",
        "save_manovers_positions_to_csv_file(positions, gyrNegativeZn, \"gyrNegZ.csv\")"
      ]
    },
    {
      "cell_type": "markdown",
      "metadata": {
        "id": "Fe_78VHvBRJQ"
      },
      "source": [
        "# **PLOT MANOVERS**"
      ]
    },
    {
      "cell_type": "code",
      "execution_count": 145,
      "metadata": {
        "colab": {
          "base_uri": "https://localhost:8080/",
          "height": 430
        },
        "id": "cksFepBiioYu",
        "outputId": "6a82c3c3-4942-4a0d-cd4e-3fd67dc914a0"
      },
      "outputs": [
        {
          "data": {
            "image/png": "[encoded data removed]",
            "text/plain": [
              "<Figure size 640x480 with 1 Axes>"
            ]
          },
          "metadata": {},
          "output_type": "display_data"
        }
      ],
      "source": [
        "plt.plot(y[:, 2], marker='.', linestyle='none')\n",
        "plt.plot(y[:, 3], marker='.', linestyle='none')\n",
        "\n",
        "plt.legend(['Accel Y', 'Break Y'])\n",
        "plt.show()"
      ]
    },
    {
      "cell_type": "markdown",
      "metadata": {
        "id": "lB-CdF_MGToJ"
      },
      "source": [
        "# **SEPARATE DATA IN TRAIN AND TEST**"
      ]
    },
    {
      "cell_type": "code",
      "execution_count": 146,
      "metadata": {
        "id": "Bd56BA3fIORH"
      },
      "outputs": [],
      "source": [
        "np.savetxt(\"TESTECSV1_NORMAL.csv\", newArray, delimiter=',', fmt='%.0i')\n",
        "np.savetxt(\"TESTECSV1_CLASSIFICADOS.csv\", y, delimiter=',', fmt='%.0i')\n",
        "\n",
        "\n",
        "x_treino, x_teste = split_train_test(newArray, test_size=0.2)\n",
        "\n",
        "\n",
        "y_treino, y_teste = split_train_test(y, test_size=0.2)\n",
        "\n"
      ]
    },
    {
      "cell_type": "markdown",
      "metadata": {
        "id": "6d5xKgrEC-ks"
      },
      "source": [
        "# **CREATE THE INPUT TENSORES DATA**"
      ]
    },
    {
      "cell_type": "code",
      "execution_count": 148,
      "metadata": {
        "id": "EOkN2T88doeE"
      },
      "outputs": [],
      "source": [
        "treino = x_treino.reshape(x_treino.shape[0], 1, x_treino.shape[1])\n",
        "teste = x_teste.reshape(x_teste.shape[0], 1, x_teste.shape[1])"
      ]
    },
    {
      "cell_type": "code",
      "execution_count": 149,
      "metadata": {},
      "outputs": [
        {
          "name": "stdout",
          "output_type": "stream",
          "text": [
            "12\n"
          ]
        }
      ],
      "source": [
        "print(y_treino.shape[1])"
      ]
    },
    {
      "cell_type": "markdown",
      "metadata": {
        "id": "wBfgiQgAGZPW"
      },
      "source": [
        "# **CREATE THE MODEL**"
      ]
    },
    {
      "cell_type": "code",
      "execution_count": 150,
      "metadata": {
        "id": "nz1_4zWXY59B"
      },
      "outputs": [],
      "source": [
        "K.clear_session()\n",
        "\n",
        "model = Sequential()\n",
        "model.add(Dense(128, input_shape=(1, treino.shape[2]), activation='relu'))\n",
        "model.add(Dropout(0.5))\n",
        "model.add(Dense(64, activation='relu'))\n",
        "model.add(Dropout(0.5))\n",
        "model.add(Dense(32, activation='relu'))\n",
        "model.add(Dropout(0.5))\n",
        "model.add(Dense(16, activation='linear'))\n",
        "model.add(Dropout(0.5))\n",
        "model.add(Dense(y_treino.shape[1], activation='sigmoid'))"
      ]
    },
    {
      "cell_type": "markdown",
      "metadata": {
        "id": "veTKT-DNBhx1"
      },
      "source": [
        "# **COMPILE THE MODEL**"
      ]
    },
    {
      "cell_type": "code",
      "execution_count": 151,
      "metadata": {
        "id": "7uASYbH8al-r"
      },
      "outputs": [],
      "source": [
        "model.compile(loss='mse', optimizer='adam', metrics=['accuracy'])\n",
        "#model.compile(loss='binary_crossentropy', optimizer='adam', metrics=['accuracy'])\n",
        "early_stop = EarlyStopping(monitor='loss', patience=5, verbose=1)"
      ]
    },
    {
      "cell_type": "markdown",
      "metadata": {
        "id": "khawMeLUGczr"
      },
      "source": [
        "# **TRAIN THE MODEL**"
      ]
    },
    {
      "cell_type": "code",
      "execution_count": 152,
      "metadata": {
        "id": "SclTSQieaecy"
      },
      "outputs": [
        {
          "name": "stdout",
          "output_type": "stream",
          "text": [
            "Epoch 1/10\n",
            "77284/77284 [==============================] - 58s 752us/step - loss: 0.0062 - accuracy: 0.8032 - val_loss: 0.0073 - val_accuracy: 0.9927\n",
            "Epoch 2/10\n",
            "77284/77284 [==============================] - 59s 769us/step - loss: 0.0059 - accuracy: 0.9800 - val_loss: 0.0073 - val_accuracy: 0.9927\n",
            "Epoch 3/10\n",
            "77284/77284 [==============================] - 60s 775us/step - loss: 0.0059 - accuracy: 0.9840 - val_loss: 0.0073 - val_accuracy: 0.9927\n",
            "Epoch 4/10\n",
            "77284/77284 [==============================] - 60s 778us/step - loss: 0.0059 - accuracy: 0.9883 - val_loss: 0.0073 - val_accuracy: 0.9927\n",
            "Epoch 5/10\n",
            "77284/77284 [==============================] - 60s 779us/step - loss: 0.0059 - accuracy: 0.9904 - val_loss: 0.0073 - val_accuracy: 0.9927\n",
            "Epoch 6/10\n",
            "77284/77284 [==============================] - 60s 782us/step - loss: 0.0059 - accuracy: 0.9907 - val_loss: 0.0073 - val_accuracy: 0.9927\n",
            "Epoch 7/10\n",
            "77284/77284 [==============================] - 61s 783us/step - loss: 0.0059 - accuracy: 0.9911 - val_loss: 0.0073 - val_accuracy: 0.9927\n",
            "Epoch 8/10\n",
            "77284/77284 [==============================] - 61s 785us/step - loss: 0.0059 - accuracy: 0.9919 - val_loss: 0.0073 - val_accuracy: 0.9927\n",
            "Epoch 9/10\n",
            "77284/77284 [==============================] - 61s 785us/step - loss: 0.0059 - accuracy: 0.9920 - val_loss: 0.0073 - val_accuracy: 0.9927\n",
            "Epoch 10/10\n",
            "77284/77284 [==============================] - 60s 774us/step - loss: 0.0059 - accuracy: 0.9921 - val_loss: 0.0073 - val_accuracy: 0.9927\n"
          ]
        }
      ],
      "source": [
        "#model_output = model.fit(treino, y_treino, epochs=10, batch_size=4, verbose=1, shuffle=False, callbacks=[early_stop], validation_data=(teste, y_teste))\n",
        "model_output = model.fit(treino, y_treino, epochs=10, batch_size=4, verbose=1, shuffle=False, callbacks=[early_stop], validation_data=(teste, y_teste))"
      ]
    },
    {
      "cell_type": "markdown",
      "metadata": {
        "id": "Ct_S460uGhxP"
      },
      "source": [
        "# **SHOW THE RESULTS**"
      ]
    },
    {
      "cell_type": "code",
      "execution_count": 153,
      "metadata": {
        "colab": {
          "base_uri": "https://localhost:8080/",
          "height": 472
        },
        "id": "mLflDJutrQ0h",
        "outputId": "8501ed24-d7b9-4705-b974-67da61effcab"
      },
      "outputs": [
        {
          "data": {
            "image/png": "[encoded data removed]",
            "text/plain": [
              "<Figure size 640x480 with 1 Axes>"
            ]
          },
          "metadata": {},
          "output_type": "display_data"
        }
      ],
      "source": [
        "plt.plot(model_output.history['loss'])\n",
        "plt.plot(model_output.history['val_loss'])\n",
        "plt.title('Historico de treino')\n",
        "plt.xlabel('Epocas de treino')\n",
        "plt.ylabel('Função custo')\n",
        "plt.legend(['Erro treino', 'Erro teste'])\n",
        "plt.show()"
      ]
    },
    {
      "cell_type": "code",
      "execution_count": null,
      "metadata": {
        "id": "RTtErVAPKNQT"
      },
      "outputs": [],
      "source": [
        "#accuracy = model_lstm.evaluate(teste, y_teste)[1]  # Assuming accuracy is the second metric\n",
        "#print('Test Accuracy:', accuracy)"
      ]
    },
    {
      "cell_type": "markdown",
      "metadata": {
        "id": "d5yRYVkqpv51"
      },
      "source": [
        "# **TEST THE NETWORK**"
      ]
    },
    {
      "cell_type": "code",
      "execution_count": 154,
      "metadata": {
        "id": "RTRP1HLnH5VA"
      },
      "outputs": [
        {
          "name": "stdout",
          "output_type": "stream",
          "text": [
            "77284/77284 [==============================] - 34s 433us/step - loss: 0.0073 - accuracy: 0.9927\n",
            "Test loss: [0.0073355743661522865, 0.9926645159721375]\n"
          ]
        }
      ],
      "source": [
        "loss = model.evaluate(teste, y_teste, batch_size=1)\n",
        "print('Test loss:', loss)\n"
      ]
    },
    {
      "cell_type": "code",
      "execution_count": 155,
      "metadata": {
        "colab": {
          "base_uri": "https://localhost:8080/"
        },
        "id": "pLTGBDbnb5kg",
        "outputId": "dd9cf2da-b049-4dce-a94a-11812023ce33"
      },
      "outputs": [
        {
          "data": {
            "text/plain": [
              "array([[0.        , 0.12590456, 0.        , 0.01743454, 0.        ,\n",
              "        0.0349228 , 0.08106817, 0.        , 0.        , 0.07270571,\n",
              "        0.03279215, 0.        ]])"
            ]
          },
          "execution_count": 155,
          "metadata": {},
          "output_type": "execute_result"
        }
      ],
      "source": [
        "teste[0]"
      ]
    },
    {
      "cell_type": "code",
      "execution_count": 156,
      "metadata": {
        "colab": {
          "base_uri": "https://localhost:8080/"
        },
        "id": "l2eG2SaqchuL",
        "outputId": "a9b11c6d-26e3-4ece-8065-1914f37957db"
      },
      "outputs": [
        {
          "data": {
            "text/plain": [
              "(77284, 1, 12)"
            ]
          },
          "execution_count": 156,
          "metadata": {},
          "output_type": "execute_result"
        }
      ],
      "source": [
        "teste.shape"
      ]
    },
    {
      "cell_type": "code",
      "execution_count": 157,
      "metadata": {
        "id": "sCXg55GxwbGg"
      },
      "outputs": [
        {
          "name": "stdout",
          "output_type": "stream",
          "text": [
            "1/1 [==============================] - 0s 96ms/step\n",
            "1/1 [==============================] - 0s 8ms/step\n",
            "1/1 [==============================] - 0s 8ms/step\n",
            "1/1 [==============================] - 0s 7ms/step\n",
            "1/1 [==============================] - 0s 7ms/step\n",
            "1/1 [==============================] - 0s 7ms/step\n",
            "1/1 [==============================] - 0s 7ms/step\n",
            "1/1 [==============================] - 0s 6ms/step\n",
            "1/1 [==============================] - 0s 7ms/step\n",
            "1/1 [==============================] - 0s 7ms/step\n",
            "1/1 [==============================] - 0s 7ms/step\n",
            "1/1 [==============================] - 0s 7ms/step\n",
            "1/1 [==============================] - 0s 6ms/step\n",
            "1/1 [==============================] - 0s 7ms/step\n",
            "1/1 [==============================] - 0s 8ms/step\n",
            "1/1 [==============================] - 0s 7ms/step\n",
            "1/1 [==============================] - 0s 7ms/step\n",
            "1/1 [==============================] - 0s 9ms/step\n",
            "1/1 [==============================] - 0s 18ms/step\n",
            "1/1 [==============================] - 0s 8ms/step\n",
            "1/1 [==============================] - 0s 8ms/step\n",
            "1/1 [==============================] - 0s 8ms/step\n",
            "1/1 [==============================] - 0s 7ms/step\n",
            "1/1 [==============================] - 0s 8ms/step\n",
            "1/1 [==============================] - 0s 8ms/step\n",
            "1/1 [==============================] - 0s 7ms/step\n",
            "1/1 [==============================] - 0s 9ms/step\n",
            "1/1 [==============================] - 0s 8ms/step\n",
            "1/1 [==============================] - 0s 9ms/step\n",
            "1/1 [==============================] - 0s 9ms/step\n",
            "1/1 [==============================] - 0s 9ms/step\n",
            "1/1 [==============================] - 0s 9ms/step\n",
            "1/1 [==============================] - 0s 8ms/step\n",
            "1/1 [==============================] - 0s 9ms/step\n",
            "1/1 [==============================] - 0s 9ms/step\n",
            "1/1 [==============================] - 0s 9ms/step\n",
            "X [: [0.2 0.  0.  0.  0.2 0.  0.1 0.  0.  0.  0.  0. ]\n",
            "Y [: [1 0 0 0 0 0 0 0 0 0 0 0]\n",
            "PC: [[[0. 0. 0. 0. 0. 0. 0. 0. 0. 0. 0. 0.]]]\n",
            "35\n",
            "1/1 [==============================] - 0s 9ms/step\n",
            "1/1 [==============================] - 0s 8ms/step\n",
            "1/1 [==============================] - 0s 7ms/step\n",
            "X [: [0.2 0.  0.  0.  0.1 0.  0.1 0.  0.1 0.  0.  0. ]\n",
            "Y [: [1 0 0 0 0 0 0 0 0 0 0 0]\n",
            "PC: [[[0. 0. 0. 0. 0. 0. 0. 0. 0. 0. 0. 0.]]]\n",
            "38\n",
            "1/1 [==============================] - 0s 7ms/step\n",
            "X [: [0.2 0.  0.  0.  0.2 0.  0.  0.  0.  0.  0.  0. ]\n",
            "Y [: [1 0 0 0 0 0 0 0 0 0 0 0]\n",
            "PC: [[[0. 0. 0. 0. 0. 0. 0. 0. 0. 0. 0. 0.]]]\n",
            "39\n",
            "1/1 [==============================] - 0s 7ms/step\n",
            "1/1 [==============================] - 0s 7ms/step\n",
            "1/1 [==============================] - 0s 7ms/step\n",
            "1/1 [==============================] - 0s 8ms/step\n",
            "1/1 [==============================] - 0s 7ms/step\n",
            "X [: [0.  0.2 0.  0.  0.  0.  0.1 0.  0.  0.1 0.  0. ]\n",
            "Y [: [0 1 0 0 0 0 0 0 0 0 0 0]\n",
            "PC: [[[0. 0. 0. 0. 0. 0. 0. 0. 0. 0. 0. 0.]]]\n",
            "44\n",
            "1/1 [==============================] - 0s 7ms/step\n",
            "1/1 [==============================] - 0s 8ms/step\n",
            "X [: [0.  0.2 0.  0.  0.  0.  0.1 0.  0.  0.1 0.  0. ]\n",
            "Y [: [0 1 0 0 0 0 0 0 0 0 0 0]\n",
            "PC: [[[0. 0. 0. 0. 0. 0. 0. 0. 0. 0. 0. 0.]]]\n",
            "46\n",
            "1/1 [==============================] - 0s 7ms/step\n",
            "1/1 [==============================] - 0s 8ms/step\n",
            "1/1 [==============================] - 0s 7ms/step\n",
            "1/1 [==============================] - 0s 8ms/step\n",
            "1/1 [==============================] - 0s 9ms/step\n",
            "1/1 [==============================] - 0s 9ms/step\n",
            "1/1 [==============================] - 0s 8ms/step\n",
            "1/1 [==============================] - 0s 8ms/step\n",
            "1/1 [==============================] - 0s 9ms/step\n",
            "1/1 [==============================] - 0s 9ms/step\n",
            "1/1 [==============================] - 0s 8ms/step\n",
            "1/1 [==============================] - 0s 9ms/step\n",
            "1/1 [==============================] - 0s 8ms/step\n",
            "1/1 [==============================] - 0s 7ms/step\n",
            "1/1 [==============================] - 0s 9ms/step\n",
            "1/1 [==============================] - 0s 8ms/step\n",
            "1/1 [==============================] - 0s 8ms/step\n",
            "1/1 [==============================] - 0s 8ms/step\n",
            "1/1 [==============================] - 0s 8ms/step\n",
            "1/1 [==============================] - 0s 7ms/step\n",
            "1/1 [==============================] - 0s 7ms/step\n",
            "1/1 [==============================] - 0s 8ms/step\n",
            "1/1 [==============================] - 0s 8ms/step\n",
            "1/1 [==============================] - 0s 8ms/step\n",
            "1/1 [==============================] - 0s 8ms/step\n",
            "1/1 [==============================] - 0s 8ms/step\n",
            "1/1 [==============================] - 0s 8ms/step\n",
            "1/1 [==============================] - 0s 9ms/step\n",
            "1/1 [==============================] - 0s 8ms/step\n",
            "1/1 [==============================] - 0s 9ms/step\n",
            "1/1 [==============================] - 0s 8ms/step\n",
            "1/1 [==============================] - 0s 9ms/step\n",
            "1/1 [==============================] - 0s 9ms/step\n",
            "1/1 [==============================] - 0s 8ms/step\n",
            "1/1 [==============================] - 0s 8ms/step\n",
            "1/1 [==============================] - 0s 8ms/step\n",
            "1/1 [==============================] - 0s 10ms/step\n",
            "1/1 [==============================] - 0s 8ms/step\n",
            "1/1 [==============================] - 0s 8ms/step\n",
            "1/1 [==============================] - 0s 9ms/step\n",
            "1/1 [==============================] - 0s 9ms/step\n",
            "1/1 [==============================] - 0s 8ms/step\n",
            "1/1 [==============================] - 0s 8ms/step\n",
            "1/1 [==============================] - 0s 8ms/step\n",
            "1/1 [==============================] - 0s 7ms/step\n",
            "1/1 [==============================] - 0s 8ms/step\n",
            "1/1 [==============================] - 0s 8ms/step\n",
            "1/1 [==============================] - 0s 7ms/step\n",
            "1/1 [==============================] - 0s 7ms/step\n",
            "1/1 [==============================] - 0s 8ms/step\n",
            "1/1 [==============================] - 0s 7ms/step\n",
            "1/1 [==============================] - 0s 7ms/step\n",
            "1/1 [==============================] - 0s 8ms/step\n"
          ]
        }
      ],
      "source": [
        "i = 0\n",
        "for i in range(100):\n",
        "    a = x_teste[i]\n",
        "    b = a.reshape(1, 1, 12)\n",
        "\n",
        "    # Make predictions on new data\n",
        "    prediction = model.predict(b)\n",
        "    #predicted_class = label_encoder.inverse_transform(prediction)[0]\n",
        "\n",
        "    np.round(prediction, decimals=1, out=prediction)\n",
        "    np.round(x_teste[i], decimals=1, out=x_teste[i])\n",
        "    #print(\"Value:\", newArray[i + start])\n",
        "    if (np.sum(y_teste[i]) > 0):\n",
        "      print(\"X [:\", x_teste[i])\n",
        "      print(\"Y [:\", y_teste[i])\n",
        "      print(\"PC:\", prediction)\n",
        "      print (i)\n",
        "    i = 1 + 1\n",
        "#PREDICTIONS WITH COLAB MODEL\n",
        "#prediction = model.predict(teste)\n",
        "#print(\"Predicted class:\", prediction)\n",
        "#print(\"Predicted class:\", predicted_class)"
      ]
    },
    {
      "cell_type": "code",
      "execution_count": 158,
      "metadata": {
        "id": "lmrX4Kzdc0T3"
      },
      "outputs": [
        {
          "name": "stdout",
          "output_type": "stream",
          "text": [
            "1/1 [==============================] - 0s 9ms/step\n",
            "Value    : [0.    0.363 0.313 0.    0.    0.31  0.393 0.    0.    0.244 0.247 0.   ]\n",
            "Predicted: [[0. 0. 0. 0. 0. 0. 0. 0. 0. 0. 0. 0.]]\n"
          ]
        }
      ],
      "source": [
        "teste_value = np.array([0., 0.363, 0.313, 0., 0., 0.31, 0.393, 0., 0., 0.244, 0.247, 0.])\n",
        "teste_value = teste_value.reshape(1, 1, 12)\n",
        "\n",
        "# Make predictions on new data\n",
        "prediction = model.predict(teste_value)\n",
        "np.round(prediction, decimals=2, out=prediction)\n",
        "\n",
        "print(\"Value    :\", teste_value[0][0])\n",
        "print(\"Predicted:\", prediction[0])\n"
      ]
    },
    {
      "cell_type": "markdown",
      "metadata": {
        "id": "02BdeK0gJrOU"
      },
      "source": [
        "# **SAVE THE MODEL**"
      ]
    },
    {
      "cell_type": "code",
      "execution_count": 26,
      "metadata": {
        "id": "KGOyK8rXJvmx"
      },
      "outputs": [],
      "source": [
        "import os\n",
        "model.save(os.path.join(\".\", 'model_v40.h5'))"
      ]
    },
    {
      "cell_type": "markdown",
      "metadata": {},
      "source": [
        "dataaug = 5%\n",
        "\n",
        "como melhorar uma rede mlp para problemas multiclasse em que cada amostra pode cair em mais que uma classe\n",
        "\n",
        "\n",
        "matriz de confusao "
      ]
    }
  ],
  "metadata": {
    "accelerator": "GPU",
    "colab": {
      "gpuType": "T4",
      "provenance": []
    },
    "kernelspec": {
      "display_name": "Python 3",
      "name": "python3"
    },
    "language_info": {
      "codemirror_mode": {
        "name": "ipython",
        "version": 3
      },
      "file_extension": ".py",
      "mimetype": "text/x-python",
      "name": "python",
      "nbconvert_exporter": "python",
      "pygments_lexer": "ipython3",
      "version": "3.11.4"
    }
  },
  "nbformat": 4,
  "nbformat_minor": 0
}
