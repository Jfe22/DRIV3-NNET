{
 "cells": [
  {
   "cell_type": "code",
   "execution_count": 1,
   "metadata": {},
   "outputs": [],
   "source": [
    "import keras\n",
    "from keras import layers\n",
    "\n",
    "import tensorflow as tf\n",
    "from tensorflow.python.ops import math_ops \n",
    "\n",
    "import math\n",
    "import numpy as np\n",
    "import pandas as pd\n",
    "from tensorflow import data as tf_data\n",
    "import matplotlib.pyplot as plt\n",
    "from functools import partial"
   ]
  },
  {
   "cell_type": "code",
   "execution_count": 4,
   "metadata": {},
   "outputs": [
    {
     "name": "stdout",
     "output_type": "stream",
     "text": [
      "                                         sensor_data   label\n",
      "0  $$$0.9480900232691144/0.6571609099218534/0.516...  Normal\n",
      "1  $$$0.9532251714291355/0.6622960580818745/0.521...  Normal\n",
      "2  $$$1.0/0.4956037531490986/0.6086395773571097/0...  Normal\n",
      "3  $$$1.0002667230831903/0.49587047623228897/0.60...  Normal\n",
      "4  $$$0.9391821067266011/0.9524225792190245/0.342...  Normal\n",
      "   accelerometerXAxis  accelerometerYAxis  accelerometerZAxis  gyroscopeXAxis  \\\n",
      "0            0.948090            0.657161            0.516222        0.343511   \n",
      "1            1.000000            0.495604            0.608640        0.312977   \n",
      "2            0.939182            0.952423            0.342116        0.503817   \n",
      "3            0.548321            0.729706            0.591897        0.748092   \n",
      "4            0.945194            0.538609            0.751990        0.610687   \n",
      "\n",
      "   gyroscopeYAxis  gyroscopeZAxis       label  \n",
      "0        0.545455        1.000000  Aggressive  \n",
      "1        0.378788        0.880000  Aggressive  \n",
      "2        0.045455        0.866667  Aggressive  \n",
      "3        0.090909        0.680000  Aggressive  \n",
      "4        0.000000        0.133333  Aggressive  \n"
     ]
    }
   ],
   "source": [
    "df = pd.read_csv('../dataset/datasets_for_training/auto_label_data_augmented_2.csv')\n",
    "\n",
    "print(df.head())\n",
    "\n",
    "df2 = pd.read_csv('../dataset/datasets_for_pandas/tt_dataset_agg1.csv')\n",
    "print(df2.head())"
   ]
  }
 ],
 "metadata": {
  "kernelspec": {
   "display_name": "Python 3",
   "language": "python",
   "name": "python3"
  },
  "language_info": {
   "codemirror_mode": {
    "name": "ipython",
    "version": 3
   },
   "file_extension": ".py",
   "mimetype": "text/x-python",
   "name": "python",
   "nbconvert_exporter": "python",
   "pygments_lexer": "ipython3",
   "version": "3.11.4"
  }
 },
 "nbformat": 4,
 "nbformat_minor": 2
}
